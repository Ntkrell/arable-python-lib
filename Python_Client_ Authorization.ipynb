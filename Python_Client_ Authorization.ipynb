{
 "cells": [
  {
   "cell_type": "code",
   "execution_count": null,
   "metadata": {},
   "outputs": [],
   "source": [
    "from base64 import b64encode\n",
    "import pandas as pd\n",
    "import requests\n",
    "import os"
   ]
  },
  {
   "cell_type": "code",
   "execution_count": null,
   "metadata": {},
   "outputs": [],
   "source": [
    "header={}\n",
    "\n",
    "def connect(email=None, password=None, apikey=None):\n",
    "    global header\n",
    "    if not all([email, password]):\n",
    "        raise Exception(\"Missing parameter; connect requires email and password\")\n",
    "    try:\n",
    "        header = _login(email=email, password=password)\n",
    "    except Exception as e:\n",
    "            raise Exception(\"Failed to connect:\\n{}\".format(str(e)))\n",
    "            \n",
    "def _login(email=None, password=None):\n",
    "    global _base_url\n",
    "    global header\n",
    "    url = \"https://api.arable.cloud/api/v2/devices\"\n",
    "    cred = b64encode(\"{0}:{1}\".format(email, password).encode('utf-8')).decode('utf-8')\n",
    "    headers = {\"Authorization\": \"Basic \" + cred}\n",
    "\n",
    "    r = requests.get(url, headers=headers)\n",
    "    if r.status_code == 200:\n",
    "        print(headers)\n",
    "        return headers\n",
    "    else:\n",
    "        r.raise_for_status()\n"
   ]
  },
  {
   "cell_type": "code",
   "execution_count": null,
   "metadata": {},
   "outputs": [],
   "source": [
    "connect(email=os.environ.get('ARABLE_EMAIL'), password=os.environ.get('ARABLE_PASSWORD'))"
   ]
  },
  {
   "cell_type": "code",
   "execution_count": null,
   "metadata": {},
   "outputs": [],
   "source": [
    "def _check_connection():\n",
    "    if not header:\n",
    "        raise Exception(\"Authentication exception: not connected.\")\n",
    "    return True\n",
    "_check_connection()"
   ]
  }
 ],
 "metadata": {
  "kernelspec": {
   "display_name": "Python 3",
   "language": "python",
   "name": "python3"
  },
  "language_info": {
   "codemirror_mode": {
    "name": "ipython",
    "version": 3
   },
   "file_extension": ".py",
   "mimetype": "text/x-python",
   "name": "python",
   "nbconvert_exporter": "python",
   "pygments_lexer": "ipython3",
   "version": "3.7.3"
  }
 },
 "nbformat": 4,
 "nbformat_minor": 2
}
