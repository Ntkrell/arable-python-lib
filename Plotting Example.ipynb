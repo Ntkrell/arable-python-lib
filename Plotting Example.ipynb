{
 "cells": [
  {
   "cell_type": "code",
   "execution_count": null,
   "metadata": {},
   "outputs": [],
   "source": [
    "import arablepy\n",
    "import pandas as pd\n",
    "import os\n",
    "pd.options.display.max_columns = None\n",
    "pd.set_option('max_colwidth', 40)\n",
    "import numpy as np\n",
    "import matplotlib.pyplot as plt\n",
    "import seaborn as sns\n",
    "from datetime import date, datetime, timedelta"
   ]
  },
  {
   "cell_type": "code",
   "execution_count": null,
   "metadata": {},
   "outputs": [],
   "source": [
    "# Create a client instance\n",
    "client = arablepy.ArableClient()\n",
    "# Provide credentials\n",
    "client.connect(email=os.environ.get('ARABLE_EMAIL'), password=os.environ.get('ARABLE_PASSWORD'))"
   ]
  },
  {
   "cell_type": "code",
   "execution_count": null,
   "metadata": {},
   "outputs": [],
   "source": [
    "# Querying \n",
    "devices=['A001333','A001617','A001239']\n",
    "df = client.data('daily', devices=devices,start_time='2019-04-22', end_time='2019-10-01')\n",
    "df.time = pd.to_datetime(df.time)"
   ]
  },
  {
   "cell_type": "code",
   "execution_count": null,
   "metadata": {},
   "outputs": [],
   "source": [
    "# Setting up the figure and subplots\n",
    "sns.set_style(\"whitegrid\")\n",
    "fig, axs = plt.subplots(3, figsize=(20,15), gridspec_kw={'hspace': 0.09})\n",
    "for device, ax in zip(devices, axs.flatten()):\n",
    "    sns.scatterplot(x=df[df.device==device].gdd.cumsum() + 60, y=df[df.device==device].ndvi, ax=ax,color='g')\n",
    "    ax.vlines(x=[195,557,770], ymin=0, ymax=1, colors=['g','b','r'], label='a', linestyles='dashed')\n",
    "    ax.text(195+5,.6,'Bloom',rotation=90, size=17)\n",
    "    ax.text(557+5,.1,'Mature Green Fruit',rotation=90, size=17)\n",
    "    ax.text(770+5,0.1,'Pink Fuit',rotation=90, size=17)\n",
    "    ax.set_ylim([0,1])\n",
    "    ax.set_xlim([60, 1100])\n",
    "    ax.set_ylabel('NDVI', size=16)\n",
    "    \n",
    "plt.suptitle('NDVI and GDD with Growing Stages', size=28, y=.93);"
   ]
  },
  {
   "cell_type": "code",
   "execution_count": null,
   "metadata": {},
   "outputs": [],
   "source": [
    "devices=['A001842','A001847','A001844', 'A001846']\n",
    "df = client.data('daily', devices=devices,start_time='2019-08-22', end_time='2020-03-15')\n",
    "df.time = pd.to_datetime(df.time)\n",
    "df = df[df.ndvi > 0.6]"
   ]
  },
  {
   "cell_type": "code",
   "execution_count": null,
   "metadata": {},
   "outputs": [],
   "source": [
    "sns.set_style(\"white\")\n",
    "fig, axs = plt.subplots(2, figsize=(20,10), gridspec_kw={'hspace': 0}, sharex=True)\n",
    "for device in devices:\n",
    "    sns.lineplot(x=df[df.device==device].time, y=df[df.device==device].ndvi, label=str(device), ax=axs[0])\n",
    "    sns.lineplot(x=df[df.device==device].time, y=df[df.device==device].etc, label=str(device), ax=axs[1])\n",
    "axs[0].set_ylim(.6)\n",
    "axs[0].set_ylabel('NDVI', size=16)\n",
    "axs[1].set_ylabel('ETc', size=16)\n",
    "plt.suptitle('NDVI and ETc Across Fields', size=28, y=.93)\n",
    "plt.plot();"
   ]
  },
  {
   "cell_type": "code",
   "execution_count": null,
   "metadata": {},
   "outputs": [],
   "source": [
    "devices=['A001431']\n",
    "df = client.data('daily', devices=devices,start_time='2019-06-29', end_time='2019-08-22')\n",
    "df.time = pd.to_datetime(df.time)"
   ]
  },
  {
   "cell_type": "code",
   "execution_count": null,
   "metadata": {},
   "outputs": [],
   "source": [
    "fig, ax1 = plt.subplots(figsize=(18,10), )\n",
    "ax1.bar(df.time, df.lfw, color='g')\n",
    "ax1.set_ylabel('Hours of Leaf Wetness')\n",
    "ax2 = ax1.twinx()\n",
    "ax2.plot(df.time, df.meant, linewidth=3, color='r', label='Mean T')\n",
    "ax2.plot(df.time, df.maxt, linewidth=0.5, label='Max T')\n",
    "ax2.plot(df.time, df.mint, linewidth=0.5, label='Min T')\n",
    "ax2.set_ylabel('Temperature C')\n",
    "ax2.fill_between(df.time, df.maxt, df.mint, alpha=.2,)\n",
    "ax2.legend()\n",
    "plt.suptitle('Leaf Wetness and Temperature', size=28, y=.93);"
   ]
  },
  {
   "cell_type": "code",
   "execution_count": null,
   "metadata": {},
   "outputs": [],
   "source": [
    "devices=['A001617']\n",
    "df = client.data('daily', devices=devices,start_time='2019-06-01', end_time='2019-08-22')\n",
    "df.time = pd.to_datetime(df.time)"
   ]
  },
  {
   "cell_type": "code",
   "execution_count": null,
   "metadata": {},
   "outputs": [],
   "source": [
    "sns.set_style(\"darkgrid\")\n",
    "fig, axs = plt.subplots(2, sharex=True, figsize=(20,10), gridspec_kw={'hspace': 0.05})\n",
    "sns.lineplot(x=df.time, y=df.ndvi, ax=axs[0], color='g')\n",
    "sns.lineplot(x=df.time, y=df.dli, ax=axs[1])\n",
    "plt.suptitle('NDVI vs DLI comparison', size=28, y=.93);"
   ]
  }
 ],
 "metadata": {
  "kernelspec": {
   "display_name": "Python 3",
   "language": "python",
   "name": "python3"
  },
  "language_info": {
   "codemirror_mode": {
    "name": "ipython",
    "version": 3
   },
   "file_extension": ".py",
   "mimetype": "text/x-python",
   "name": "python",
   "nbconvert_exporter": "python",
   "pygments_lexer": "ipython3",
   "version": "3.7.3"
  }
 },
 "nbformat": 4,
 "nbformat_minor": 2
}
